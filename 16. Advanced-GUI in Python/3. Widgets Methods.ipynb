{
 "cells": [
  {
   "cell_type": "markdown",
   "metadata": {},
   "source": [
    "# Widgets Methods\n",
    "\n",
    "Here are some methods that you can call on different widgets. These methods are especially useful to do the GUI assignment posted with this section $-$ The COLOR GAME."
   ]
  },
  {
   "cell_type": "markdown",
   "metadata": {},
   "source": [
    "## 1.  bind() method\n",
    "\n",
    "tkinter app runs most of its time inside an event loop, entered via the mainloop() method. It is waiting for events to happen. \n",
    "Events can be **key presses** or **mouse operations** by the user. \n",
    "\n",
    "tkinter provides a mechanism to let the programmer deal with events. For each widget, it's possible to bind Python functions and methods to an event.\n",
    "\n",
    "**To bind a function/method to a widget, simply USE THIS SYNTAX**: \n",
    "\n",
    "                                              \n",
    "                                              widget.bind(event, handler)\n",
    "                                               \n",
    "Where:\n",
    " - **event** is either a key press of the keyboard or a mouse click.\n",
    " - **handler** is the function or method that will be called to handle that event.\n",
    " \n",
    " \n",
    "If event occurs in the widget, the \"handler\" function is called **with an event object**.\n",
    "\n",
    "### Example:"
   ]
  },
  {
   "cell_type": "code",
   "execution_count": null,
   "metadata": {},
   "outputs": [],
   "source": [
    "app = Tk()\n",
    "\n",
    "# some code here \n",
    "\n",
    "def some_function(event):\n",
    "    # do something to handle that event\n",
    "    pass\n",
    "\n",
    "# to bind the main window of GUI app to an event\n",
    "# the event is the key enter <Return> pressed by the user\n",
    "app.bind('<Return>', some_function)"
   ]
  },
  {
   "cell_type": "markdown",
   "metadata": {},
   "source": [
    "## 2. focus_set()\n",
    "\n",
    "This method moves the keyboard focus to the a widget. This means that all keyboard events sent to the application will be routed to this widget.\n",
    "\n",
    "### Example:"
   ]
  },
  {
   "cell_type": "code",
   "execution_count": null,
   "metadata": {},
   "outputs": [],
   "source": [
    "app = Tk()\n",
    "\n",
    "... \n",
    "\n",
    "# create Entry widget\n",
    "entry = Entry(app)\n",
    "# display widget\n",
    "entry.pack()\n",
    "\n",
    "# move the keyboard focus to the Entry widget \n",
    "entry.focus_set()"
   ]
  },
  {
   "cell_type": "markdown",
   "metadata": {},
   "source": [
    "## 3. delete(first, last)\n",
    "\n",
    "This method deletes the text of a widget. The first and last parameters specify the first and last character of the text (string) to be deleted, respectively. \n",
    "\n",
    "**Example**:"
   ]
  },
  {
   "cell_type": "code",
   "execution_count": null,
   "metadata": {},
   "outputs": [],
   "source": [
    "# delete ALL text of the entry string\n",
    "# first=0 and last=tkinter.END\n",
    "entry.delete(0, tkinter.END)\n",
    "\n",
    "# delete ONLY the last character of the entry string\n",
    "# get the length of the string in the widget minus 1 \n",
    "first = len(entry.get())-1\n",
    "\n",
    "# then delete everything up to the end\n",
    "entry.delete(first, tkinter.END)"
   ]
  },
  {
   "cell_type": "markdown",
   "metadata": {},
   "source": [
    "## Great!\n",
    "\n",
    "### Now you are ready to work on your GUI assignment. Good Luck!"
   ]
  }
 ],
 "metadata": {
  "kernelspec": {
   "display_name": "Python 3",
   "language": "python",
   "name": "python3"
  },
  "language_info": {
   "codemirror_mode": {
    "name": "ipython",
    "version": 3
   },
   "file_extension": ".py",
   "mimetype": "text/x-python",
   "name": "python",
   "nbconvert_exporter": "python",
   "pygments_lexer": "ipython3",
   "version": "3.6.5"
  }
 },
 "nbformat": 4,
 "nbformat_minor": 2
}
