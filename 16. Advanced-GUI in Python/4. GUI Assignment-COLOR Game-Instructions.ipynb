{
 "cells": [
  {
   "cell_type": "markdown",
   "metadata": {},
   "source": [
    "# GUI - Assignment - Color Game Using Widgets"
   ]
  },
  {
   "cell_type": "markdown",
   "metadata": {},
   "source": [
    "## This is a simple game that uses different widgets such as label, entry and messagebox. \n",
    " - The game starts when the player presses the enter key $<Return>$. \n",
    " - A colored-word will appear and the player has to type the color of the word NOT the word itself in the entry box. \n",
    " - If the color entered by the player is correct, the player will score a point. \n",
    " - The time limit of the game is 30 seconds (half a minute).\n",
    " - Once the time is over a messagebox will appear displaying a message \"Game Over! with your score.\n",
    "\n",
    "\n",
    "### Question 1: import tkinter, messagebox and random modules. Then define some global variables as follows:"
   ]
  },
  {
   "cell_type": "code",
   "execution_count": null,
   "metadata": {},
   "outputs": [],
   "source": [
    "# import modules\n",
    "\n",
    "# list of colors\n",
    "# the game will display the word red (colors[0]) colored in blue (colors[1])\n",
    "colors = ['red','blue','green','pink','black','yellow','orange','white','purple','brown']\n",
    "\n",
    "score = 0      # initial score\n",
    "timeleft = 30  # means 30 seconds"
   ]
  },
  {
   "cell_type": "markdown",
   "metadata": {},
   "source": [
    "### Question 2: Write a function start_game() that calls another function countdown() when the value of timeleft = 30. Then calls another function next_color() to pick another random color from the list colors."
   ]
  },
  {
   "cell_type": "code",
   "execution_count": 16,
   "metadata": {},
   "outputs": [],
   "source": [
    "def start_game(event):\n",
    "    if timeleft == 30:\n",
    "        # start the countdown timer\n",
    "    # call next_color() function"
   ]
  },
  {
   "cell_type": "markdown",
   "metadata": {},
   "source": [
    "### Question 3: Write a function next_color() that uses the global variables score and timeleft to suffle the list of colors and get the next color from the list colors."
   ]
  },
  {
   "cell_type": "code",
   "execution_count": null,
   "metadata": {},
   "outputs": [],
   "source": [
    "def next_color():\n",
    "    global score\n",
    "    global timeleft\n",
    "    \n",
    "    # if a game is currently in play\n",
    "    if timeleft > 0:\n",
    "        # move the keyboard focus to the Entry widget\n",
    "        # check if the the string got from Entry is the same as the string in colors[1]\n",
    "        # if yes, increment the score\n",
    "            \n",
    "    # clear the text of the entry box\n",
    "    entry.delete(...)\n",
    "    \n",
    "    # suffle the items of a list in place\n",
    "    # call suffle() method from random module\n",
    "    \n",
    "    # configure fg and text options a label widget that displays the colored-word \n",
    "    # set text to the 1st color and fg to the 2nd color in colors list\n",
    "    label.config(text=..., fg=...)))\n",
    "    \n",
    "    # display the updated score on scoreLabel\n",
    "    scoreLabel.config(text=)"
   ]
  },
  {
   "cell_type": "markdown",
   "metadata": {},
   "source": [
    "### Question 4: Write a function countdown() that uses the global variable timeleft to determine if the game is still in play or is it over. Based on that the function will update the timer and some related widgets accordingly."
   ]
  },
  {
   "cell_type": "code",
   "execution_count": null,
   "metadata": {},
   "outputs": [],
   "source": [
    "def countdown():\n",
    "    global timeleft\n",
    "    \n",
    "    # if a game is in play\n",
    "    if timeleft > 0:\n",
    "        # decrement the timer\n",
    "        # update the time left label\n",
    "        # run the function again after 1 second.\n",
    "        timeLabel.after(1000, countdown)\n",
    "    else:\n",
    "        # display the msgbox (Game Over!)"
   ]
  },
  {
   "cell_type": "markdown",
   "metadata": {},
   "source": [
    "### Question 5: Write a function end_msg_box() that creates a messagebox widget with the title \"GAME OVER!\" and the message \"GAME OVER! Your Score is: and the player's score."
   ]
  },
  {
   "cell_type": "code",
   "execution_count": null,
   "metadata": {},
   "outputs": [],
   "source": [
    "def end_msg_box():    \n",
    "    # create messagebox widget\n",
    "    pass"
   ]
  },
  {
   "cell_type": "markdown",
   "metadata": {},
   "source": [
    "### Question 6: In the main part of the program, start a new GUI app. The main window is 500px width and 200px height with title \"Color Game\". Inside this main window create the following widgets:\n",
    "\n",
    "- **Four Label widgets**: instructions, score, time, and colored-word widgets. Use your preferred styling options.\n",
    "- **One Entry widget**: to enter the color of the word. Use the method focus_set() on the Entry object to move the keyboard focus to this widget.\n",
    "\n",
    "Then bind the main window to an event. The event in this game is pressing the enter key by a player, in that case the function start_game() is called with an event object. Use this syntax: app.bind(event, handler function). Finally start the GUI program."
   ]
  },
  {
   "cell_type": "code",
   "execution_count": null,
   "metadata": {},
   "outputs": [],
   "source": [
    "# main code\n",
    "app = Tk()\n",
    "\n",
    "# set some options of app, e.g., geometry, title \n",
    "\n",
    "# create Label widgets, here is one\n",
    "instructions = Label(app, text='', fg='', font=('helvetica', 14) ...)\n",
    "\n",
    "...\n",
    "\n",
    "# create Entry widget\n",
    "\n",
    "# display all widgets\n",
    "\n",
    "# move the keyboard focus to the Entry widget \n",
    "entry.focus_set()\n",
    "\n",
    "# bind the app to an event \n",
    "# when the player presses enter key the function start_game() is called with an event\n",
    "app.bind(..., ...)\n",
    "\n",
    "\n",
    "# start the GUI\n",
    "app.mainloop()"
   ]
  },
  {
   "cell_type": "markdown",
   "metadata": {},
   "source": [
    "### GOOD LUCK everyone! HAVE FUN solving the questions and playing the game.\n"
   ]
  }
 ],
 "metadata": {
  "kernelspec": {
   "display_name": "Python 3",
   "language": "python",
   "name": "python3"
  },
  "language_info": {
   "codemirror_mode": {
    "name": "ipython",
    "version": 3
   },
   "file_extension": ".py",
   "mimetype": "text/x-python",
   "name": "python",
   "nbconvert_exporter": "python",
   "pygments_lexer": "ipython3",
   "version": "3.6.5"
  }
 },
 "nbformat": 4,
 "nbformat_minor": 2
}
